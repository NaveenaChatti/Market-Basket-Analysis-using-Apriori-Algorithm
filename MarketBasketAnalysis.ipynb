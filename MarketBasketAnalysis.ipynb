{
 "cells": [
  {
   "cell_type": "markdown",
   "metadata": {
    "id": "YgFXKWl_g6Ar"
   },
   "source": [
    "# Market Basket Analysis\n"
   ]
  },
  {
   "cell_type": "markdown",
   "metadata": {
    "id": "ejBaMIsShJNl"
   },
   "source": [
    "\n",
    "In this project, we will focus on the preprocessing step before building the model.\n",
    "\n",
    "We will prepare data before making a Market basket analysis, which is an algorithm originally designed to help retailers understand and improve their businesses.\n",
    "\n",
    "Also, we will do some important preprocessing step before building an unsupervised model for Customer Segments."
   ]
  },
  {
   "cell_type": "markdown",
   "metadata": {
    "id": "da1OV543hvGv"
   },
   "source": [
    "### Market Basket Analysis\n",
    "---\n",
    "Imagine you work for a retailer that sells dozens of products and your boss comes to you and asks the following questions:\n",
    "\n",
    "* What products are purchased together most frequently?\n",
    "* How should the products be organized and positioned in the store?\n",
    "* How do we identify the best products to discount via coupons?\n",
    "---\n",
    "##### You might reasonably respond with complete bewilderment, as those questions are very diverse and do not immediately seem answerable using a single algorithm and dataset. However, the answer to all those questions and many more is market basket analysis.\n",
    "--\n",
    "### Dataset:\n",
    "you can find the dataset on Canvas under Dataset section: \"Online Retail.xlsx\""
   ]
  },
  {
   "cell_type": "code",
   "execution_count": 3,
   "metadata": {},
   "outputs": [],
   "source": [
    "#!pip install jupyterlab-rise\n"
   ]
  },
  {
   "cell_type": "markdown",
   "metadata": {
    "id": "wwcIjv_FkKq8"
   },
   "source": [
    "### Steps to do:\n",
    "\n",
    "1- Open a Jupyter notebook.\n",
    "\n",
    "2- Install the following libraries, if not installed, and then import them:\n",
    "* matplotlib.pyplot, which is used to plot the results of the models.\n",
    "* mlxtend.frequent_patterns, which is used to run the models;\n",
    "* mlxtend.preprocessing, which is used to encode and prep the data for the models;\n",
    "* numpy, which is used to work with arrays;\n",
    "* pandas, which is used to work with DataFrames."
   ]
  },
  {
   "cell_type": "code",
   "execution_count": 6,
   "metadata": {
    "id": "dCLgo8JqkQMK"
   },
   "outputs": [],
   "source": [
    "#!pip install mlxtend\n",
    "import matplotlib.pyplot as plt\n",
    "import mlxtend.frequent_patterns\n",
    "import mlxtend.preprocessing\n",
    "import numpy as nd\n",
    "import pandas as pd"
   ]
  },
  {
   "cell_type": "markdown",
   "metadata": {
    "id": "cWG1Fz66kW7q"
   },
   "source": [
    "3- Loading Data\n",
    "\n",
    "Load and view online retail dataset.Once you have downloaded the dataset, save it and note the path."
   ]
  },
  {
   "cell_type": "code",
   "execution_count": 13,
   "metadata": {
    "id": "8mie-OzSkeNd"
   },
   "outputs": [
    {
     "name": "stderr",
     "output_type": "stream",
     "text": [
      "C:\\Users\\haris\\anaconda3\\Lib\\site-packages\\openpyxl\\packaging\\core.py:99: DeprecationWarning: datetime.datetime.utcnow() is deprecated and scheduled for removal in a future version. Use timezone-aware objects to represent datetimes in UTC: datetime.datetime.now(datetime.UTC).\n",
      "  now = datetime.datetime.utcnow()\n",
      "C:\\Users\\haris\\anaconda3\\Lib\\site-packages\\openpyxl\\packaging\\core.py:99: DeprecationWarning: datetime.datetime.utcnow() is deprecated and scheduled for removal in a future version. Use timezone-aware objects to represent datetimes in UTC: datetime.datetime.now(datetime.UTC).\n",
      "  now = datetime.datetime.utcnow()\n"
     ]
    }
   ],
   "source": [
    "# write your code here\n",
    "df=pd.read_excel('C:/Naveena/OLD Laptop Projects/Online Retail.xlsx')\n"
   ]
  },
  {
   "cell_type": "markdown",
   "metadata": {
    "id": "KMTXKPNMkksH"
   },
   "source": [
    "4- Print out the first 10 rows of the DataFrame. \n",
    "\n",
    "Notice that the data contains some columns that will not be relevant to market basket analysis:"
   ]
  },
  {
   "cell_type": "code",
   "execution_count": 15,
   "metadata": {
    "id": "JzDdJ6Zlknig"
   },
   "outputs": [
    {
     "data": {
      "text/html": [
       "<div>\n",
       "<style scoped>\n",
       "    .dataframe tbody tr th:only-of-type {\n",
       "        vertical-align: middle;\n",
       "    }\n",
       "\n",
       "    .dataframe tbody tr th {\n",
       "        vertical-align: top;\n",
       "    }\n",
       "\n",
       "    .dataframe thead th {\n",
       "        text-align: right;\n",
       "    }\n",
       "</style>\n",
       "<table border=\"1\" class=\"dataframe\">\n",
       "  <thead>\n",
       "    <tr style=\"text-align: right;\">\n",
       "      <th></th>\n",
       "      <th>InvoiceNo</th>\n",
       "      <th>StockCode</th>\n",
       "      <th>Description</th>\n",
       "      <th>Quantity</th>\n",
       "      <th>InvoiceDate</th>\n",
       "      <th>UnitPrice</th>\n",
       "      <th>CustomerID</th>\n",
       "      <th>Country</th>\n",
       "    </tr>\n",
       "  </thead>\n",
       "  <tbody>\n",
       "    <tr>\n",
       "      <th>0</th>\n",
       "      <td>536365</td>\n",
       "      <td>85123A</td>\n",
       "      <td>WHITE HANGING HEART T-LIGHT HOLDER</td>\n",
       "      <td>6</td>\n",
       "      <td>2010-12-01 08:26:00</td>\n",
       "      <td>2.55</td>\n",
       "      <td>17850.0</td>\n",
       "      <td>United Kingdom</td>\n",
       "    </tr>\n",
       "    <tr>\n",
       "      <th>1</th>\n",
       "      <td>536365</td>\n",
       "      <td>71053</td>\n",
       "      <td>WHITE METAL LANTERN</td>\n",
       "      <td>6</td>\n",
       "      <td>2010-12-01 08:26:00</td>\n",
       "      <td>3.39</td>\n",
       "      <td>17850.0</td>\n",
       "      <td>United Kingdom</td>\n",
       "    </tr>\n",
       "    <tr>\n",
       "      <th>2</th>\n",
       "      <td>536365</td>\n",
       "      <td>84406B</td>\n",
       "      <td>CREAM CUPID HEARTS COAT HANGER</td>\n",
       "      <td>8</td>\n",
       "      <td>2010-12-01 08:26:00</td>\n",
       "      <td>2.75</td>\n",
       "      <td>17850.0</td>\n",
       "      <td>United Kingdom</td>\n",
       "    </tr>\n",
       "    <tr>\n",
       "      <th>3</th>\n",
       "      <td>536365</td>\n",
       "      <td>84029G</td>\n",
       "      <td>KNITTED UNION FLAG HOT WATER BOTTLE</td>\n",
       "      <td>6</td>\n",
       "      <td>2010-12-01 08:26:00</td>\n",
       "      <td>3.39</td>\n",
       "      <td>17850.0</td>\n",
       "      <td>United Kingdom</td>\n",
       "    </tr>\n",
       "    <tr>\n",
       "      <th>4</th>\n",
       "      <td>536365</td>\n",
       "      <td>84029E</td>\n",
       "      <td>RED WOOLLY HOTTIE WHITE HEART.</td>\n",
       "      <td>6</td>\n",
       "      <td>2010-12-01 08:26:00</td>\n",
       "      <td>3.39</td>\n",
       "      <td>17850.0</td>\n",
       "      <td>United Kingdom</td>\n",
       "    </tr>\n",
       "    <tr>\n",
       "      <th>5</th>\n",
       "      <td>536365</td>\n",
       "      <td>22752</td>\n",
       "      <td>SET 7 BABUSHKA NESTING BOXES</td>\n",
       "      <td>2</td>\n",
       "      <td>2010-12-01 08:26:00</td>\n",
       "      <td>7.65</td>\n",
       "      <td>17850.0</td>\n",
       "      <td>United Kingdom</td>\n",
       "    </tr>\n",
       "    <tr>\n",
       "      <th>6</th>\n",
       "      <td>536365</td>\n",
       "      <td>21730</td>\n",
       "      <td>GLASS STAR FROSTED T-LIGHT HOLDER</td>\n",
       "      <td>6</td>\n",
       "      <td>2010-12-01 08:26:00</td>\n",
       "      <td>4.25</td>\n",
       "      <td>17850.0</td>\n",
       "      <td>United Kingdom</td>\n",
       "    </tr>\n",
       "    <tr>\n",
       "      <th>7</th>\n",
       "      <td>536366</td>\n",
       "      <td>22633</td>\n",
       "      <td>HAND WARMER UNION JACK</td>\n",
       "      <td>6</td>\n",
       "      <td>2010-12-01 08:28:00</td>\n",
       "      <td>1.85</td>\n",
       "      <td>17850.0</td>\n",
       "      <td>United Kingdom</td>\n",
       "    </tr>\n",
       "    <tr>\n",
       "      <th>8</th>\n",
       "      <td>536366</td>\n",
       "      <td>22632</td>\n",
       "      <td>HAND WARMER RED POLKA DOT</td>\n",
       "      <td>6</td>\n",
       "      <td>2010-12-01 08:28:00</td>\n",
       "      <td>1.85</td>\n",
       "      <td>17850.0</td>\n",
       "      <td>United Kingdom</td>\n",
       "    </tr>\n",
       "    <tr>\n",
       "      <th>9</th>\n",
       "      <td>536367</td>\n",
       "      <td>84879</td>\n",
       "      <td>ASSORTED COLOUR BIRD ORNAMENT</td>\n",
       "      <td>32</td>\n",
       "      <td>2010-12-01 08:34:00</td>\n",
       "      <td>1.69</td>\n",
       "      <td>13047.0</td>\n",
       "      <td>United Kingdom</td>\n",
       "    </tr>\n",
       "  </tbody>\n",
       "</table>\n",
       "</div>"
      ],
      "text/plain": [
       "  InvoiceNo StockCode                          Description  Quantity  \\\n",
       "0    536365    85123A   WHITE HANGING HEART T-LIGHT HOLDER         6   \n",
       "1    536365     71053                  WHITE METAL LANTERN         6   \n",
       "2    536365    84406B       CREAM CUPID HEARTS COAT HANGER         8   \n",
       "3    536365    84029G  KNITTED UNION FLAG HOT WATER BOTTLE         6   \n",
       "4    536365    84029E       RED WOOLLY HOTTIE WHITE HEART.         6   \n",
       "5    536365     22752         SET 7 BABUSHKA NESTING BOXES         2   \n",
       "6    536365     21730    GLASS STAR FROSTED T-LIGHT HOLDER         6   \n",
       "7    536366     22633               HAND WARMER UNION JACK         6   \n",
       "8    536366     22632            HAND WARMER RED POLKA DOT         6   \n",
       "9    536367     84879        ASSORTED COLOUR BIRD ORNAMENT        32   \n",
       "\n",
       "          InvoiceDate  UnitPrice  CustomerID         Country  \n",
       "0 2010-12-01 08:26:00       2.55     17850.0  United Kingdom  \n",
       "1 2010-12-01 08:26:00       3.39     17850.0  United Kingdom  \n",
       "2 2010-12-01 08:26:00       2.75     17850.0  United Kingdom  \n",
       "3 2010-12-01 08:26:00       3.39     17850.0  United Kingdom  \n",
       "4 2010-12-01 08:26:00       3.39     17850.0  United Kingdom  \n",
       "5 2010-12-01 08:26:00       7.65     17850.0  United Kingdom  \n",
       "6 2010-12-01 08:26:00       4.25     17850.0  United Kingdom  \n",
       "7 2010-12-01 08:28:00       1.85     17850.0  United Kingdom  \n",
       "8 2010-12-01 08:28:00       1.85     17850.0  United Kingdom  \n",
       "9 2010-12-01 08:34:00       1.69     13047.0  United Kingdom  "
      ]
     },
     "execution_count": 15,
     "metadata": {},
     "output_type": "execute_result"
    }
   ],
   "source": [
    "# write your code here\n",
    "df.head(10)\n"
   ]
  },
  {
   "cell_type": "markdown",
   "metadata": {
    "id": "XjzSRKYQkqny"
   },
   "source": [
    "5- Print out the data type for each column in the DataFrame. \n",
    "\n",
    "This information will come in handy when trying to perform specific cleaning tasks. Columns need to be of the correct type in order for filtering and computing to execute as expected:"
   ]
  },
  {
   "cell_type": "code",
   "execution_count": 19,
   "metadata": {
    "id": "xQumi7oWksza"
   },
   "outputs": [
    {
     "data": {
      "text/plain": [
       "InvoiceNo              object\n",
       "StockCode              object\n",
       "Description            object\n",
       "Quantity                int64\n",
       "InvoiceDate    datetime64[ns]\n",
       "UnitPrice             float64\n",
       "CustomerID            float64\n",
       "Country                object\n",
       "dtype: object"
      ]
     },
     "execution_count": 19,
     "metadata": {},
     "output_type": "execute_result"
    }
   ],
   "source": [
    "# write your code here\n",
    "df.dtypes\n"
   ]
  },
  {
   "cell_type": "markdown",
   "metadata": {
    "id": "IwxWJbQskwAM"
   },
   "source": [
    "6- Get and print the dimensions of the DataFrame, as well as the number of unique invoice numbers and customer identifications "
   ]
  },
  {
   "cell_type": "code",
   "execution_count": 22,
   "metadata": {
    "id": "9fecqG66kyUM"
   },
   "outputs": [
    {
     "data": {
      "text/plain": [
       "(541909, 8)"
      ]
     },
     "execution_count": 22,
     "metadata": {},
     "output_type": "execute_result"
    }
   ],
   "source": [
    "# write your code here\n",
    "df.shape\n"
   ]
  },
  {
   "cell_type": "code",
   "execution_count": 24,
   "metadata": {},
   "outputs": [
    {
     "name": "stdout",
     "output_type": "stream",
     "text": [
      "Unique Invoices are: [536365 536366 536367 ... 581585 581586 581587]\n",
      "Number of Unique Invoices are: 25900\n"
     ]
    }
   ],
   "source": [
    "Unique_invoices=(df['InvoiceNo'].unique())\n",
    "print('Unique Invoices are:',Unique_invoices)\n",
    "print('Number of Unique Invoices are:',len(Unique_invoices))\n",
    "\n"
   ]
  },
  {
   "cell_type": "code",
   "execution_count": 26,
   "metadata": {},
   "outputs": [
    {
     "name": "stdout",
     "output_type": "stream",
     "text": [
      "Unique Customers are: [17850. 13047. 12583. ... 13298. 14569. 12713.]\n",
      "Number of Unique Customers are: 4373\n"
     ]
    }
   ],
   "source": [
    "Unique_customers=(df['CustomerID'].unique())\n",
    "print('Unique Customers are:',Unique_customers)\n",
    "print('Number of Unique Customers are:',len(Unique_customers))\n"
   ]
  },
  {
   "cell_type": "markdown",
   "metadata": {
    "id": "4W8ph75ck1lu"
   },
   "source": [
    "7- Data Cleaning and Formatting:\n",
    "\n",
    "a. Create an indicator column stipulating whether the invoice number begins with \"C\". Called the column \"IsCPresent\""
   ]
  },
  {
   "cell_type": "code",
   "execution_count": 29,
   "metadata": {
    "id": "h66BgH-gk4o7"
   },
   "outputs": [
    {
     "name": "stdout",
     "output_type": "stream",
     "text": [
      "IsCPresent\n",
      "0    532621\n",
      "1      9288\n",
      "Name: count, dtype: int64\n"
     ]
    }
   ],
   "source": [
    "# write your code here\n",
    "df['IsCPresent']=[1 if str(InvoiceNo).startswith('C') else 0 for InvoiceNo in df['InvoiceNo']]\n",
    "print(df['IsCPresent'].value_counts())"
   ]
  },
  {
   "cell_type": "markdown",
   "metadata": {
    "id": "29SGnBKUk5vx"
   },
   "source": [
    "b.\n",
    "- Filter out all transactions having either zero or a negative number of items (in other words, items were returned),\n",
    "- Remove all invoice numbers starting with \"C\" using the column created in previous step\n",
    "- Subset the DataFrame down to InvoiceNo and Description\n",
    "- Drop all rows with at least one missing value.\n",
    "- Rename the DataFrame online1 and print out the first 10 rows of the filtered DataFrame, online1."
   ]
  },
  {
   "cell_type": "code",
   "execution_count": 32,
   "metadata": {
    "id": "pjoR-GvqolGm"
   },
   "outputs": [],
   "source": [
    "# write your code here\n",
    "df1=df[df['Quantity']>0]\n",
    "df1=df1.drop(df1[df1['IsCPresent']==1].index)\n",
    "df2=df1[['InvoiceNo','Description']]\n"
   ]
  },
  {
   "cell_type": "code",
   "execution_count": 34,
   "metadata": {},
   "outputs": [
    {
     "data": {
      "text/plain": [
       "InvoiceNo        0\n",
       "Description    592\n",
       "dtype: int64"
      ]
     },
     "execution_count": 34,
     "metadata": {},
     "output_type": "execute_result"
    }
   ],
   "source": [
    "df2.isnull().sum()"
   ]
  },
  {
   "cell_type": "code",
   "execution_count": 36,
   "metadata": {},
   "outputs": [
    {
     "data": {
      "text/html": [
       "<div>\n",
       "<style scoped>\n",
       "    .dataframe tbody tr th:only-of-type {\n",
       "        vertical-align: middle;\n",
       "    }\n",
       "\n",
       "    .dataframe tbody tr th {\n",
       "        vertical-align: top;\n",
       "    }\n",
       "\n",
       "    .dataframe thead th {\n",
       "        text-align: right;\n",
       "    }\n",
       "</style>\n",
       "<table border=\"1\" class=\"dataframe\">\n",
       "  <thead>\n",
       "    <tr style=\"text-align: right;\">\n",
       "      <th></th>\n",
       "      <th>InvoiceNo</th>\n",
       "      <th>Description</th>\n",
       "    </tr>\n",
       "  </thead>\n",
       "  <tbody>\n",
       "    <tr>\n",
       "      <th>0</th>\n",
       "      <td>536365</td>\n",
       "      <td>WHITE HANGING HEART T-LIGHT HOLDER</td>\n",
       "    </tr>\n",
       "    <tr>\n",
       "      <th>1</th>\n",
       "      <td>536365</td>\n",
       "      <td>WHITE METAL LANTERN</td>\n",
       "    </tr>\n",
       "    <tr>\n",
       "      <th>2</th>\n",
       "      <td>536365</td>\n",
       "      <td>CREAM CUPID HEARTS COAT HANGER</td>\n",
       "    </tr>\n",
       "    <tr>\n",
       "      <th>3</th>\n",
       "      <td>536365</td>\n",
       "      <td>KNITTED UNION FLAG HOT WATER BOTTLE</td>\n",
       "    </tr>\n",
       "    <tr>\n",
       "      <th>4</th>\n",
       "      <td>536365</td>\n",
       "      <td>RED WOOLLY HOTTIE WHITE HEART.</td>\n",
       "    </tr>\n",
       "    <tr>\n",
       "      <th>5</th>\n",
       "      <td>536365</td>\n",
       "      <td>SET 7 BABUSHKA NESTING BOXES</td>\n",
       "    </tr>\n",
       "    <tr>\n",
       "      <th>6</th>\n",
       "      <td>536365</td>\n",
       "      <td>GLASS STAR FROSTED T-LIGHT HOLDER</td>\n",
       "    </tr>\n",
       "    <tr>\n",
       "      <th>7</th>\n",
       "      <td>536366</td>\n",
       "      <td>HAND WARMER UNION JACK</td>\n",
       "    </tr>\n",
       "    <tr>\n",
       "      <th>8</th>\n",
       "      <td>536366</td>\n",
       "      <td>HAND WARMER RED POLKA DOT</td>\n",
       "    </tr>\n",
       "    <tr>\n",
       "      <th>9</th>\n",
       "      <td>536367</td>\n",
       "      <td>ASSORTED COLOUR BIRD ORNAMENT</td>\n",
       "    </tr>\n",
       "  </tbody>\n",
       "</table>\n",
       "</div>"
      ],
      "text/plain": [
       "  InvoiceNo                          Description\n",
       "0    536365   WHITE HANGING HEART T-LIGHT HOLDER\n",
       "1    536365                  WHITE METAL LANTERN\n",
       "2    536365       CREAM CUPID HEARTS COAT HANGER\n",
       "3    536365  KNITTED UNION FLAG HOT WATER BOTTLE\n",
       "4    536365       RED WOOLLY HOTTIE WHITE HEART.\n",
       "5    536365         SET 7 BABUSHKA NESTING BOXES\n",
       "6    536365    GLASS STAR FROSTED T-LIGHT HOLDER\n",
       "7    536366               HAND WARMER UNION JACK\n",
       "8    536366            HAND WARMER RED POLKA DOT\n",
       "9    536367        ASSORTED COLOUR BIRD ORNAMENT"
      ]
     },
     "execution_count": 36,
     "metadata": {},
     "output_type": "execute_result"
    }
   ],
   "source": [
    "online1=df2.drop(df2[df2['Description'].isnull()].index)\n",
    "#df2.rename_axis('online2')\n",
    "online1.head(10)"
   ]
  },
  {
   "cell_type": "code",
   "execution_count": 38,
   "metadata": {},
   "outputs": [
    {
     "data": {
      "text/plain": [
       "InvoiceNo      0\n",
       "Description    0\n",
       "dtype: int64"
      ]
     },
     "execution_count": 38,
     "metadata": {},
     "output_type": "execute_result"
    }
   ],
   "source": [
    "online1.isnull().sum()"
   ]
  },
  {
   "cell_type": "markdown",
   "metadata": {
    "id": "nKviaPYklDWn"
   },
   "source": [
    "c. Approximately, how many rows and invoice numbers have already removed? \n",
    "\n",
    "#### Initially, there were 5,41,909 rows in the original dataset.In step b ,  the length of the dataset was 532621 after we have deleted 9288 rows where the InvoiceNo started with 'C'.After the data set is filtered out of return transactions the length is 531285. From this,We have also deleted 592 rows with NaN values in 'Description' columnn.The dataset should be having 530693 rows approximately.\n"
   ]
  },
  {
   "cell_type": "code",
   "execution_count": 41,
   "metadata": {
    "id": "DDD6mTJRlFus"
   },
   "outputs": [
    {
     "data": {
      "text/plain": [
       "(530693, 2)"
      ]
     },
     "execution_count": 41,
     "metadata": {},
     "output_type": "execute_result"
    }
   ],
   "source": [
    "#write your code here to prove your answer:\n",
    "online1.shape"
   ]
  },
  {
   "cell_type": "markdown",
   "metadata": {
    "id": "lUjagck4lXNV"
   },
   "source": [
    "d. \n",
    "- Extract the invoice numbers from the DataFrame as a list.\n",
    "- Remove duplicate elements to create a list of unique invoice numbers.\n",
    "- Confirm that the process was successful by printing the length of the list of unique invoice numbers."
   ]
  },
  {
   "cell_type": "code",
   "execution_count": 44,
   "metadata": {
    "id": "2zBLgtfKla5p"
   },
   "outputs": [
    {
     "name": "stdout",
     "output_type": "stream",
     "text": [
      "530693\n",
      "Numner of Unique Invoice Nos is 20136\n"
     ]
    }
   ],
   "source": [
    "# write your code here\n",
    "\n",
    "Invoice_Nos=online1['InvoiceNo'].tolist()\n",
    "print(len(Invoice_Nos))\n",
    "unique_Invs=list(set(Invoice_Nos))\n",
    "print('Numner of Unique Invoice Nos is',len(unique_Invs))\n"
   ]
  },
  {
   "cell_type": "markdown",
   "metadata": {
    "id": "Bgt43yxElen8"
   },
   "source": [
    "e. Take the list from step d and cut it to only include the first 5,000 elements. Print out the length of the new list to confirm that it is, in fact, the expected length of 5,000"
   ]
  },
  {
   "cell_type": "code",
   "execution_count": 47,
   "metadata": {
    "id": "CZAyLfinliQx"
   },
   "outputs": [
    {
     "name": "stdout",
     "output_type": "stream",
     "text": [
      "5000\n"
     ]
    }
   ],
   "source": [
    "# write your code here\n",
    "New_InvNo=unique_Invs[0:5000]\n",
    "print(len(New_InvNo))"
   ]
  },
  {
   "cell_type": "markdown",
   "metadata": {
    "id": "pVgjErInlmQH"
   },
   "source": [
    "f. Filter the online1 DataFrame down by only keeping the invoice numbers in the list from step e and print out the first 10 rows of online1"
   ]
  },
  {
   "cell_type": "code",
   "execution_count": 50,
   "metadata": {
    "id": "1OVhCiwglpsD"
   },
   "outputs": [
    {
     "data": {
      "text/html": [
       "<div>\n",
       "<style scoped>\n",
       "    .dataframe tbody tr th:only-of-type {\n",
       "        vertical-align: middle;\n",
       "    }\n",
       "\n",
       "    .dataframe tbody tr th {\n",
       "        vertical-align: top;\n",
       "    }\n",
       "\n",
       "    .dataframe thead th {\n",
       "        text-align: right;\n",
       "    }\n",
       "</style>\n",
       "<table border=\"1\" class=\"dataframe\">\n",
       "  <thead>\n",
       "    <tr style=\"text-align: right;\">\n",
       "      <th></th>\n",
       "      <th>InvoiceNo</th>\n",
       "      <th>Description</th>\n",
       "    </tr>\n",
       "  </thead>\n",
       "  <tbody>\n",
       "    <tr>\n",
       "      <th>0</th>\n",
       "      <td>536365</td>\n",
       "      <td>WHITE HANGING HEART T-LIGHT HOLDER</td>\n",
       "    </tr>\n",
       "    <tr>\n",
       "      <th>1</th>\n",
       "      <td>536365</td>\n",
       "      <td>WHITE METAL LANTERN</td>\n",
       "    </tr>\n",
       "    <tr>\n",
       "      <th>2</th>\n",
       "      <td>536365</td>\n",
       "      <td>CREAM CUPID HEARTS COAT HANGER</td>\n",
       "    </tr>\n",
       "    <tr>\n",
       "      <th>3</th>\n",
       "      <td>536365</td>\n",
       "      <td>KNITTED UNION FLAG HOT WATER BOTTLE</td>\n",
       "    </tr>\n",
       "    <tr>\n",
       "      <th>4</th>\n",
       "      <td>536365</td>\n",
       "      <td>RED WOOLLY HOTTIE WHITE HEART.</td>\n",
       "    </tr>\n",
       "    <tr>\n",
       "      <th>5</th>\n",
       "      <td>536365</td>\n",
       "      <td>SET 7 BABUSHKA NESTING BOXES</td>\n",
       "    </tr>\n",
       "    <tr>\n",
       "      <th>6</th>\n",
       "      <td>536365</td>\n",
       "      <td>GLASS STAR FROSTED T-LIGHT HOLDER</td>\n",
       "    </tr>\n",
       "    <tr>\n",
       "      <th>7</th>\n",
       "      <td>536366</td>\n",
       "      <td>HAND WARMER UNION JACK</td>\n",
       "    </tr>\n",
       "    <tr>\n",
       "      <th>8</th>\n",
       "      <td>536366</td>\n",
       "      <td>HAND WARMER RED POLKA DOT</td>\n",
       "    </tr>\n",
       "    <tr>\n",
       "      <th>9</th>\n",
       "      <td>536367</td>\n",
       "      <td>ASSORTED COLOUR BIRD ORNAMENT</td>\n",
       "    </tr>\n",
       "  </tbody>\n",
       "</table>\n",
       "</div>"
      ],
      "text/plain": [
       "  InvoiceNo                          Description\n",
       "0    536365   WHITE HANGING HEART T-LIGHT HOLDER\n",
       "1    536365                  WHITE METAL LANTERN\n",
       "2    536365       CREAM CUPID HEARTS COAT HANGER\n",
       "3    536365  KNITTED UNION FLAG HOT WATER BOTTLE\n",
       "4    536365       RED WOOLLY HOTTIE WHITE HEART.\n",
       "5    536365         SET 7 BABUSHKA NESTING BOXES\n",
       "6    536365    GLASS STAR FROSTED T-LIGHT HOLDER\n",
       "7    536366               HAND WARMER UNION JACK\n",
       "8    536366            HAND WARMER RED POLKA DOT\n",
       "9    536367        ASSORTED COLOUR BIRD ORNAMENT"
      ]
     },
     "execution_count": 50,
     "metadata": {},
     "output_type": "execute_result"
    }
   ],
   "source": [
    "# write your code here\n",
    "online1=online1[online1['InvoiceNo'].isin(New_InvNo)]\n",
    "online1.head(10)"
   ]
  },
  {
   "cell_type": "markdown",
   "metadata": {
    "id": "a0qukXPhlrGY"
   },
   "source": [
    "g. Print out the dimensions of the DataFrame (online1) and the number of unique invoice numbers to confirm that the filtering and cleaning process was successful "
   ]
  },
  {
   "cell_type": "code",
   "execution_count": 53,
   "metadata": {
    "id": "jGEjdeV_lwdy"
   },
   "outputs": [
    {
     "data": {
      "text/plain": [
       "(133315, 2)"
      ]
     },
     "execution_count": 53,
     "metadata": {},
     "output_type": "execute_result"
    }
   ],
   "source": [
    "# write your code here\n",
    "online1.shape"
   ]
  },
  {
   "cell_type": "code",
   "execution_count": 55,
   "metadata": {},
   "outputs": [
    {
     "name": "stdout",
     "output_type": "stream",
     "text": [
      "5000\n"
     ]
    }
   ],
   "source": [
    "print(len(online1['InvoiceNo'].unique()))\n",
    "# or print(online1['InvoiceNo'].nunique()) "
   ]
  },
  {
   "cell_type": "markdown",
   "metadata": {
    "id": "ELrV7XgAl1or"
   },
   "source": [
    "h. Transform the data in online1 into the aforementioned list of lists called invoice_item_list. The process for doing this is to iterate over the unique invoice numbers and, at each iteration, extract the item descriptions as a list and append that list to the larger invoice_item_list list. Print out elements one through four of the list"
   ]
  },
  {
   "cell_type": "code",
   "execution_count": 58,
   "metadata": {
    "id": "A3TjwnQ1ouSB"
   },
   "outputs": [
    {
     "name": "stdout",
     "output_type": "stream",
     "text": [
      "['WHITE HANGING HEART T-LIGHT HOLDER', 'WHITE METAL LANTERN', 'CREAM CUPID HEARTS COAT HANGER', 'KNITTED UNION FLAG HOT WATER BOTTLE', 'RED WOOLLY HOTTIE WHITE HEART.', 'SET 7 BABUSHKA NESTING BOXES', 'GLASS STAR FROSTED T-LIGHT HOLDER']\n",
      "['HAND WARMER UNION JACK', 'HAND WARMER RED POLKA DOT']\n",
      "['ASSORTED COLOUR BIRD ORNAMENT', \"POPPY'S PLAYHOUSE BEDROOM \", \"POPPY'S PLAYHOUSE KITCHEN\", 'FELTCRAFT PRINCESS CHARLOTTE DOLL', 'IVORY KNITTED MUG COSY ', 'BOX OF 6 ASSORTED COLOUR TEASPOONS', 'BOX OF VINTAGE JIGSAW BLOCKS ', 'BOX OF VINTAGE ALPHABET BLOCKS', 'HOME BUILDING BLOCK WORD', 'LOVE BUILDING BLOCK WORD', 'RECIPE BOX WITH METAL HEART', 'DOORMAT NEW ENGLAND']\n",
      "['JAM MAKING SET WITH JARS', 'RED COAT RACK PARIS FASHION', 'YELLOW COAT RACK PARIS FASHION', 'BLUE COAT RACK PARIS FASHION']\n"
     ]
    }
   ],
   "source": [
    "# write your code here\n",
    "invoice_item_list=[online1.loc[online1['InvoiceNo']==item,'Description'].tolist() for item in unique_Invs]\n",
    "for sublist in invoice_item_list[:4]:\n",
    "    print(sublist)"
   ]
  },
  {
   "cell_type": "markdown",
   "metadata": {
    "id": "LGDI2Nt9l8yK"
   },
   "source": [
    "8- Data Encoding\n",
    "\n",
    "While cleaning the data is crucial, the most important part of the data preparation process is molding the data into the correct form. Before running the models, the data, currently in the list of lists form, needs to be encoded and recast as a DataFrame.\n",
    "\n",
    "To do this, we will leverage TransactionEncoder from the preprocessing module of mlxtend. The output from the encoder is a multidimensional array, where each row is the length of the total number of unique items in the transaction dataset and the elements are Boolean variables, indicating whether that particular item is linked to the invoice number that row represents. With the data encoded, we can recast it as a DataFrame where the rows are the invoice numbers and the columns are the unique items in the transaction dataset.\n",
    "\n",
    "The data encoding will be done using mlxtend, but if you wish to encode the data without using a package, you are free.\n",
    "\n",
    "More info about mlxtend in the link: https://rasbt.github.io/mlxtend/\n",
    "\n",
    "a. Initialize and fit the transaction encoder. Print out an example of the resulting data. "
   ]
  },
  {
   "cell_type": "code",
   "execution_count": 61,
   "metadata": {
    "id": "c8JKo9ecmC5o"
   },
   "outputs": [
    {
     "name": "stdout",
     "output_type": "stream",
     "text": [
      "[[False False False ... False False False]\n",
      " [False False False ... False False False]\n",
      " [False False False ... False False False]\n",
      " ...\n",
      " [False False False ... False False False]\n",
      " [False False False ... False False False]\n",
      " [False False False ... False False False]]\n"
     ]
    }
   ],
   "source": [
    "# write your code here\n",
    "from mlxtend.preprocessing import TransactionEncoder\n",
    "transaction_encoder=TransactionEncoder()\n",
    "data=transaction_encoder.fit_transform(invoice_item_list)\n",
    "print(data)"
   ]
  },
  {
   "cell_type": "markdown",
   "metadata": {
    "id": "E3ElUp84mF_4"
   },
   "source": [
    "b. Recast the encoded array as a DataFrame named online_encoder_df. Print the predefined subset of the DataFrame that features both True and False values "
   ]
  },
  {
   "cell_type": "code",
   "execution_count": 64,
   "metadata": {
    "id": "oX9c8MZ4l5BM"
   },
   "outputs": [
    {
     "data": {
      "text/html": [
       "<div>\n",
       "<style scoped>\n",
       "    .dataframe tbody tr th:only-of-type {\n",
       "        vertical-align: middle;\n",
       "    }\n",
       "\n",
       "    .dataframe tbody tr th {\n",
       "        vertical-align: top;\n",
       "    }\n",
       "\n",
       "    .dataframe thead th {\n",
       "        text-align: right;\n",
       "    }\n",
       "</style>\n",
       "<table border=\"1\" class=\"dataframe\">\n",
       "  <thead>\n",
       "    <tr style=\"text-align: right;\">\n",
       "      <th></th>\n",
       "      <th>4 PURPLE FLOCK DINNER CANDLES</th>\n",
       "      <th>OVAL WALL MIRROR DIAMANTE</th>\n",
       "      <th>SET 2 TEA TOWELS I LOVE LONDON</th>\n",
       "      <th>SPACEBOY BABY GIFT SET</th>\n",
       "      <th>*Boombox Ipod Classic</th>\n",
       "      <th>*USB Office Mirror Ball</th>\n",
       "      <th>10 COLOUR SPACEBOY PEN</th>\n",
       "      <th>12 COLOURED PARTY BALLOONS</th>\n",
       "      <th>12 DAISY PEGS IN WOOD BOX</th>\n",
       "      <th>12 EGG HOUSE PAINTED WOOD</th>\n",
       "      <th>...</th>\n",
       "      <th>ZINC HEART LATTICE T-LIGHT HOLDER</th>\n",
       "      <th>ZINC HEART LATTICE TRAY OVAL</th>\n",
       "      <th>ZINC METAL HEART DECORATION</th>\n",
       "      <th>ZINC TOP  2 DOOR WOODEN SHELF</th>\n",
       "      <th>ZINC WILLIE WINKIE  CANDLE STICK</th>\n",
       "      <th>amazon</th>\n",
       "      <th>amazon sales</th>\n",
       "      <th>found</th>\n",
       "      <th>rcvd be air temp fix for dotcom sit</th>\n",
       "      <th>wrongly sold (22719) barcode</th>\n",
       "    </tr>\n",
       "  </thead>\n",
       "  <tbody>\n",
       "    <tr>\n",
       "      <th>0</th>\n",
       "      <td>False</td>\n",
       "      <td>False</td>\n",
       "      <td>False</td>\n",
       "      <td>False</td>\n",
       "      <td>False</td>\n",
       "      <td>False</td>\n",
       "      <td>False</td>\n",
       "      <td>False</td>\n",
       "      <td>False</td>\n",
       "      <td>False</td>\n",
       "      <td>...</td>\n",
       "      <td>False</td>\n",
       "      <td>False</td>\n",
       "      <td>False</td>\n",
       "      <td>False</td>\n",
       "      <td>False</td>\n",
       "      <td>False</td>\n",
       "      <td>False</td>\n",
       "      <td>False</td>\n",
       "      <td>False</td>\n",
       "      <td>False</td>\n",
       "    </tr>\n",
       "    <tr>\n",
       "      <th>1</th>\n",
       "      <td>False</td>\n",
       "      <td>False</td>\n",
       "      <td>False</td>\n",
       "      <td>False</td>\n",
       "      <td>False</td>\n",
       "      <td>False</td>\n",
       "      <td>False</td>\n",
       "      <td>False</td>\n",
       "      <td>False</td>\n",
       "      <td>False</td>\n",
       "      <td>...</td>\n",
       "      <td>False</td>\n",
       "      <td>False</td>\n",
       "      <td>False</td>\n",
       "      <td>False</td>\n",
       "      <td>False</td>\n",
       "      <td>False</td>\n",
       "      <td>False</td>\n",
       "      <td>False</td>\n",
       "      <td>False</td>\n",
       "      <td>False</td>\n",
       "    </tr>\n",
       "    <tr>\n",
       "      <th>2</th>\n",
       "      <td>False</td>\n",
       "      <td>False</td>\n",
       "      <td>False</td>\n",
       "      <td>False</td>\n",
       "      <td>False</td>\n",
       "      <td>False</td>\n",
       "      <td>False</td>\n",
       "      <td>False</td>\n",
       "      <td>False</td>\n",
       "      <td>False</td>\n",
       "      <td>...</td>\n",
       "      <td>False</td>\n",
       "      <td>False</td>\n",
       "      <td>False</td>\n",
       "      <td>False</td>\n",
       "      <td>False</td>\n",
       "      <td>False</td>\n",
       "      <td>False</td>\n",
       "      <td>False</td>\n",
       "      <td>False</td>\n",
       "      <td>False</td>\n",
       "    </tr>\n",
       "    <tr>\n",
       "      <th>3</th>\n",
       "      <td>False</td>\n",
       "      <td>False</td>\n",
       "      <td>False</td>\n",
       "      <td>False</td>\n",
       "      <td>False</td>\n",
       "      <td>False</td>\n",
       "      <td>False</td>\n",
       "      <td>False</td>\n",
       "      <td>False</td>\n",
       "      <td>False</td>\n",
       "      <td>...</td>\n",
       "      <td>False</td>\n",
       "      <td>False</td>\n",
       "      <td>False</td>\n",
       "      <td>False</td>\n",
       "      <td>False</td>\n",
       "      <td>False</td>\n",
       "      <td>False</td>\n",
       "      <td>False</td>\n",
       "      <td>False</td>\n",
       "      <td>False</td>\n",
       "    </tr>\n",
       "    <tr>\n",
       "      <th>4</th>\n",
       "      <td>False</td>\n",
       "      <td>False</td>\n",
       "      <td>False</td>\n",
       "      <td>False</td>\n",
       "      <td>False</td>\n",
       "      <td>False</td>\n",
       "      <td>False</td>\n",
       "      <td>False</td>\n",
       "      <td>False</td>\n",
       "      <td>False</td>\n",
       "      <td>...</td>\n",
       "      <td>False</td>\n",
       "      <td>False</td>\n",
       "      <td>False</td>\n",
       "      <td>False</td>\n",
       "      <td>False</td>\n",
       "      <td>False</td>\n",
       "      <td>False</td>\n",
       "      <td>False</td>\n",
       "      <td>False</td>\n",
       "      <td>False</td>\n",
       "    </tr>\n",
       "    <tr>\n",
       "      <th>5</th>\n",
       "      <td>False</td>\n",
       "      <td>False</td>\n",
       "      <td>True</td>\n",
       "      <td>False</td>\n",
       "      <td>False</td>\n",
       "      <td>False</td>\n",
       "      <td>False</td>\n",
       "      <td>False</td>\n",
       "      <td>False</td>\n",
       "      <td>False</td>\n",
       "      <td>...</td>\n",
       "      <td>False</td>\n",
       "      <td>False</td>\n",
       "      <td>False</td>\n",
       "      <td>False</td>\n",
       "      <td>False</td>\n",
       "      <td>False</td>\n",
       "      <td>False</td>\n",
       "      <td>False</td>\n",
       "      <td>False</td>\n",
       "      <td>False</td>\n",
       "    </tr>\n",
       "    <tr>\n",
       "      <th>6</th>\n",
       "      <td>False</td>\n",
       "      <td>False</td>\n",
       "      <td>False</td>\n",
       "      <td>False</td>\n",
       "      <td>False</td>\n",
       "      <td>False</td>\n",
       "      <td>False</td>\n",
       "      <td>False</td>\n",
       "      <td>False</td>\n",
       "      <td>False</td>\n",
       "      <td>...</td>\n",
       "      <td>False</td>\n",
       "      <td>False</td>\n",
       "      <td>False</td>\n",
       "      <td>False</td>\n",
       "      <td>False</td>\n",
       "      <td>False</td>\n",
       "      <td>False</td>\n",
       "      <td>False</td>\n",
       "      <td>False</td>\n",
       "      <td>False</td>\n",
       "    </tr>\n",
       "    <tr>\n",
       "      <th>7</th>\n",
       "      <td>False</td>\n",
       "      <td>False</td>\n",
       "      <td>False</td>\n",
       "      <td>False</td>\n",
       "      <td>False</td>\n",
       "      <td>False</td>\n",
       "      <td>False</td>\n",
       "      <td>False</td>\n",
       "      <td>False</td>\n",
       "      <td>False</td>\n",
       "      <td>...</td>\n",
       "      <td>False</td>\n",
       "      <td>False</td>\n",
       "      <td>False</td>\n",
       "      <td>False</td>\n",
       "      <td>False</td>\n",
       "      <td>False</td>\n",
       "      <td>False</td>\n",
       "      <td>False</td>\n",
       "      <td>False</td>\n",
       "      <td>False</td>\n",
       "    </tr>\n",
       "    <tr>\n",
       "      <th>8</th>\n",
       "      <td>False</td>\n",
       "      <td>False</td>\n",
       "      <td>False</td>\n",
       "      <td>False</td>\n",
       "      <td>False</td>\n",
       "      <td>False</td>\n",
       "      <td>False</td>\n",
       "      <td>False</td>\n",
       "      <td>False</td>\n",
       "      <td>False</td>\n",
       "      <td>...</td>\n",
       "      <td>False</td>\n",
       "      <td>False</td>\n",
       "      <td>False</td>\n",
       "      <td>False</td>\n",
       "      <td>False</td>\n",
       "      <td>False</td>\n",
       "      <td>False</td>\n",
       "      <td>False</td>\n",
       "      <td>False</td>\n",
       "      <td>False</td>\n",
       "    </tr>\n",
       "    <tr>\n",
       "      <th>9</th>\n",
       "      <td>False</td>\n",
       "      <td>False</td>\n",
       "      <td>False</td>\n",
       "      <td>False</td>\n",
       "      <td>False</td>\n",
       "      <td>False</td>\n",
       "      <td>False</td>\n",
       "      <td>False</td>\n",
       "      <td>False</td>\n",
       "      <td>False</td>\n",
       "      <td>...</td>\n",
       "      <td>False</td>\n",
       "      <td>False</td>\n",
       "      <td>False</td>\n",
       "      <td>False</td>\n",
       "      <td>False</td>\n",
       "      <td>False</td>\n",
       "      <td>False</td>\n",
       "      <td>False</td>\n",
       "      <td>False</td>\n",
       "      <td>False</td>\n",
       "    </tr>\n",
       "  </tbody>\n",
       "</table>\n",
       "<p>10 rows × 3135 columns</p>\n",
       "</div>"
      ],
      "text/plain": [
       "    4 PURPLE FLOCK DINNER CANDLES   OVAL WALL MIRROR DIAMANTE   \\\n",
       "0                           False                        False   \n",
       "1                           False                        False   \n",
       "2                           False                        False   \n",
       "3                           False                        False   \n",
       "4                           False                        False   \n",
       "5                           False                        False   \n",
       "6                           False                        False   \n",
       "7                           False                        False   \n",
       "8                           False                        False   \n",
       "9                           False                        False   \n",
       "\n",
       "    SET 2 TEA TOWELS I LOVE LONDON    SPACEBOY BABY GIFT SET  \\\n",
       "0                             False                    False   \n",
       "1                             False                    False   \n",
       "2                             False                    False   \n",
       "3                             False                    False   \n",
       "4                             False                    False   \n",
       "5                              True                    False   \n",
       "6                             False                    False   \n",
       "7                             False                    False   \n",
       "8                             False                    False   \n",
       "9                             False                    False   \n",
       "\n",
       "   *Boombox Ipod Classic  *USB Office Mirror Ball  10 COLOUR SPACEBOY PEN  \\\n",
       "0                  False                    False                   False   \n",
       "1                  False                    False                   False   \n",
       "2                  False                    False                   False   \n",
       "3                  False                    False                   False   \n",
       "4                  False                    False                   False   \n",
       "5                  False                    False                   False   \n",
       "6                  False                    False                   False   \n",
       "7                  False                    False                   False   \n",
       "8                  False                    False                   False   \n",
       "9                  False                    False                   False   \n",
       "\n",
       "   12 COLOURED PARTY BALLOONS  12 DAISY PEGS IN WOOD BOX  \\\n",
       "0                       False                      False   \n",
       "1                       False                      False   \n",
       "2                       False                      False   \n",
       "3                       False                      False   \n",
       "4                       False                      False   \n",
       "5                       False                      False   \n",
       "6                       False                      False   \n",
       "7                       False                      False   \n",
       "8                       False                      False   \n",
       "9                       False                      False   \n",
       "\n",
       "   12 EGG HOUSE PAINTED WOOD  ...  ZINC HEART LATTICE T-LIGHT HOLDER  \\\n",
       "0                      False  ...                              False   \n",
       "1                      False  ...                              False   \n",
       "2                      False  ...                              False   \n",
       "3                      False  ...                              False   \n",
       "4                      False  ...                              False   \n",
       "5                      False  ...                              False   \n",
       "6                      False  ...                              False   \n",
       "7                      False  ...                              False   \n",
       "8                      False  ...                              False   \n",
       "9                      False  ...                              False   \n",
       "\n",
       "   ZINC HEART LATTICE TRAY OVAL   ZINC METAL HEART DECORATION  \\\n",
       "0                          False                        False   \n",
       "1                          False                        False   \n",
       "2                          False                        False   \n",
       "3                          False                        False   \n",
       "4                          False                        False   \n",
       "5                          False                        False   \n",
       "6                          False                        False   \n",
       "7                          False                        False   \n",
       "8                          False                        False   \n",
       "9                          False                        False   \n",
       "\n",
       "   ZINC TOP  2 DOOR WOODEN SHELF   ZINC WILLIE WINKIE  CANDLE STICK  amazon  \\\n",
       "0                           False                             False   False   \n",
       "1                           False                             False   False   \n",
       "2                           False                             False   False   \n",
       "3                           False                             False   False   \n",
       "4                           False                             False   False   \n",
       "5                           False                             False   False   \n",
       "6                           False                             False   False   \n",
       "7                           False                             False   False   \n",
       "8                           False                             False   False   \n",
       "9                           False                             False   False   \n",
       "\n",
       "   amazon sales  found  rcvd be air temp fix for dotcom sit  \\\n",
       "0         False  False                                False   \n",
       "1         False  False                                False   \n",
       "2         False  False                                False   \n",
       "3         False  False                                False   \n",
       "4         False  False                                False   \n",
       "5         False  False                                False   \n",
       "6         False  False                                False   \n",
       "7         False  False                                False   \n",
       "8         False  False                                False   \n",
       "9         False  False                                False   \n",
       "\n",
       "   wrongly sold (22719) barcode  \n",
       "0                         False  \n",
       "1                         False  \n",
       "2                         False  \n",
       "3                         False  \n",
       "4                         False  \n",
       "5                         False  \n",
       "6                         False  \n",
       "7                         False  \n",
       "8                         False  \n",
       "9                         False  \n",
       "\n",
       "[10 rows x 3135 columns]"
      ]
     },
     "execution_count": 64,
     "metadata": {},
     "output_type": "execute_result"
    }
   ],
   "source": [
    "# write your code here\n",
    "online_encoder_df=pd.DataFrame(data,columns=transaction_encoder.columns_)\n",
    "# Define a subset\n",
    "subset=online_encoder_df[(online_encoder_df==True).any(axis=1) & (online_encoder_df==False).any(axis=1)]\n",
    "#print(subset) # Here, each row has at least one true and one false. Therefore, all rows are printed.\n",
    "subset.head(10)"
   ]
  },
  {
   "cell_type": "code",
   "execution_count": 152,
   "metadata": {},
   "outputs": [
    {
     "data": {
      "text/plain": [
       "Index([' 4 PURPLE FLOCK DINNER CANDLES', ' OVAL WALL MIRROR DIAMANTE ',\n",
       "       ' SET 2 TEA TOWELS I LOVE LONDON ', ' SPACEBOY BABY GIFT SET',\n",
       "       '*Boombox Ipod Classic', '*USB Office Mirror Ball',\n",
       "       '10 COLOUR SPACEBOY PEN', '12 COLOURED PARTY BALLOONS',\n",
       "       '12 DAISY PEGS IN WOOD BOX', '12 EGG HOUSE PAINTED WOOD',\n",
       "       ...\n",
       "       'ZINC HEART LATTICE T-LIGHT HOLDER', 'ZINC HEART LATTICE TRAY OVAL ',\n",
       "       'ZINC METAL HEART DECORATION', 'ZINC TOP  2 DOOR WOODEN SHELF ',\n",
       "       'ZINC WILLIE WINKIE  CANDLE STICK', 'amazon', 'amazon sales', 'found',\n",
       "       'rcvd be air temp fix for dotcom sit', 'wrongly sold (22719) barcode'],\n",
       "      dtype='object', length=3135)"
      ]
     },
     "execution_count": 152,
     "metadata": {},
     "output_type": "execute_result"
    }
   ],
   "source": [
    "subset.columns"
   ]
  },
  {
   "cell_type": "markdown",
   "metadata": {
    "id": "FDG6mHIao4Es"
   },
   "source": [
    "c. Print out the dimensions of the encoded DataFrame. "
   ]
  },
  {
   "cell_type": "code",
   "execution_count": 154,
   "metadata": {},
   "outputs": [
    {
     "data": {
      "text/plain": [
       "(5000, 3135)"
      ]
     },
     "execution_count": 154,
     "metadata": {},
     "output_type": "execute_result"
    }
   ],
   "source": [
    "subset.shape"
   ]
  },
  {
   "cell_type": "markdown",
   "metadata": {},
   "source": [
    "This is becase there are 5000 unique invoices and 3150 descriptions"
   ]
  },
  {
   "cell_type": "markdown",
   "metadata": {
    "id": "MDepnejUpB7u"
   },
   "source": [
    "#### The data is now prepared for modeling.\n",
    "---"
   ]
  },
  {
   "cell_type": "markdown",
   "metadata": {},
   "source": [
    "## Applying Apriori's Model"
   ]
  },
  {
   "cell_type": "code",
   "execution_count": 199,
   "metadata": {},
   "outputs": [],
   "source": [
    "from mlxtend.frequent_patterns import apriori, association_rules\n",
    "\n",
    "# Apply the Apriori algorithm with a minimum support threshold\n",
    "frequent_itemsets = apriori(subset, min_support=0.04, use_colnames=True)\n"
   ]
  },
  {
   "cell_type": "code",
   "execution_count": 201,
   "metadata": {},
   "outputs": [
    {
     "data": {
      "text/html": [
       "<div>\n",
       "<style scoped>\n",
       "    .dataframe tbody tr th:only-of-type {\n",
       "        vertical-align: middle;\n",
       "    }\n",
       "\n",
       "    .dataframe tbody tr th {\n",
       "        vertical-align: top;\n",
       "    }\n",
       "\n",
       "    .dataframe thead th {\n",
       "        text-align: right;\n",
       "    }\n",
       "</style>\n",
       "<table border=\"1\" class=\"dataframe\">\n",
       "  <thead>\n",
       "    <tr style=\"text-align: right;\">\n",
       "      <th></th>\n",
       "      <th>antecedents</th>\n",
       "      <th>consequents</th>\n",
       "      <th>antecedent support</th>\n",
       "      <th>consequent support</th>\n",
       "      <th>support</th>\n",
       "      <th>confidence</th>\n",
       "      <th>lift</th>\n",
       "      <th>representativity</th>\n",
       "      <th>leverage</th>\n",
       "      <th>conviction</th>\n",
       "      <th>zhangs_metric</th>\n",
       "      <th>jaccard</th>\n",
       "      <th>certainty</th>\n",
       "      <th>kulczynski</th>\n",
       "    </tr>\n",
       "  </thead>\n",
       "  <tbody>\n",
       "    <tr>\n",
       "      <th>0</th>\n",
       "      <td>(ROSES REGENCY TEACUP AND SAUCER )</td>\n",
       "      <td>(GREEN REGENCY TEACUP AND SAUCER)</td>\n",
       "      <td>0.0574</td>\n",
       "      <td>0.0574</td>\n",
       "      <td>0.0428</td>\n",
       "      <td>0.745645</td>\n",
       "      <td>12.990324</td>\n",
       "      <td>1.0</td>\n",
       "      <td>0.039505</td>\n",
       "      <td>3.705838</td>\n",
       "      <td>0.979227</td>\n",
       "      <td>0.594444</td>\n",
       "      <td>0.730156</td>\n",
       "      <td>0.745645</td>\n",
       "    </tr>\n",
       "    <tr>\n",
       "      <th>1</th>\n",
       "      <td>(GREEN REGENCY TEACUP AND SAUCER)</td>\n",
       "      <td>(ROSES REGENCY TEACUP AND SAUCER )</td>\n",
       "      <td>0.0574</td>\n",
       "      <td>0.0574</td>\n",
       "      <td>0.0428</td>\n",
       "      <td>0.745645</td>\n",
       "      <td>12.990324</td>\n",
       "      <td>1.0</td>\n",
       "      <td>0.039505</td>\n",
       "      <td>3.705838</td>\n",
       "      <td>0.979227</td>\n",
       "      <td>0.594444</td>\n",
       "      <td>0.730156</td>\n",
       "      <td>0.745645</td>\n",
       "    </tr>\n",
       "    <tr>\n",
       "      <th>2</th>\n",
       "      <td>(HEART OF WICKER LARGE)</td>\n",
       "      <td>(HEART OF WICKER SMALL)</td>\n",
       "      <td>0.0676</td>\n",
       "      <td>0.0890</td>\n",
       "      <td>0.0426</td>\n",
       "      <td>0.630178</td>\n",
       "      <td>7.080646</td>\n",
       "      <td>1.0</td>\n",
       "      <td>0.036584</td>\n",
       "      <td>2.463344</td>\n",
       "      <td>0.921032</td>\n",
       "      <td>0.373684</td>\n",
       "      <td>0.594048</td>\n",
       "      <td>0.554415</td>\n",
       "    </tr>\n",
       "    <tr>\n",
       "      <th>3</th>\n",
       "      <td>(SET OF 6 SPICE TINS PANTRY DESIGN)</td>\n",
       "      <td>(SET OF 3 CAKE TINS PANTRY DESIGN )</td>\n",
       "      <td>0.0734</td>\n",
       "      <td>0.1050</td>\n",
       "      <td>0.0474</td>\n",
       "      <td>0.645777</td>\n",
       "      <td>6.150253</td>\n",
       "      <td>1.0</td>\n",
       "      <td>0.039693</td>\n",
       "      <td>2.526654</td>\n",
       "      <td>0.903740</td>\n",
       "      <td>0.361832</td>\n",
       "      <td>0.604220</td>\n",
       "      <td>0.548603</td>\n",
       "    </tr>\n",
       "  </tbody>\n",
       "</table>\n",
       "</div>"
      ],
      "text/plain": [
       "                           antecedents                          consequents  \\\n",
       "0   (ROSES REGENCY TEACUP AND SAUCER )    (GREEN REGENCY TEACUP AND SAUCER)   \n",
       "1    (GREEN REGENCY TEACUP AND SAUCER)   (ROSES REGENCY TEACUP AND SAUCER )   \n",
       "2              (HEART OF WICKER LARGE)              (HEART OF WICKER SMALL)   \n",
       "3  (SET OF 6 SPICE TINS PANTRY DESIGN)  (SET OF 3 CAKE TINS PANTRY DESIGN )   \n",
       "\n",
       "   antecedent support  consequent support  support  confidence       lift  \\\n",
       "0              0.0574              0.0574   0.0428    0.745645  12.990324   \n",
       "1              0.0574              0.0574   0.0428    0.745645  12.990324   \n",
       "2              0.0676              0.0890   0.0426    0.630178   7.080646   \n",
       "3              0.0734              0.1050   0.0474    0.645777   6.150253   \n",
       "\n",
       "   representativity  leverage  conviction  zhangs_metric   jaccard  certainty  \\\n",
       "0               1.0  0.039505    3.705838       0.979227  0.594444   0.730156   \n",
       "1               1.0  0.039505    3.705838       0.979227  0.594444   0.730156   \n",
       "2               1.0  0.036584    2.463344       0.921032  0.373684   0.594048   \n",
       "3               1.0  0.039693    2.526654       0.903740  0.361832   0.604220   \n",
       "\n",
       "   kulczynski  \n",
       "0    0.745645  \n",
       "1    0.745645  \n",
       "2    0.554415  \n",
       "3    0.548603  "
      ]
     },
     "execution_count": 201,
     "metadata": {},
     "output_type": "execute_result"
    }
   ],
   "source": [
    "# Generate association rules with a minimum lift threshold\n",
    "rules = association_rules(frequent_itemsets, metric=\"confidence\", min_threshold=0.6)\n",
    "\n",
    "# Display the first few rules\n",
    "rules\n"
   ]
  },
  {
   "cell_type": "code",
   "execution_count": 203,
   "metadata": {},
   "outputs": [
    {
     "data": {
      "text/html": [
       "<div>\n",
       "<style scoped>\n",
       "    .dataframe tbody tr th:only-of-type {\n",
       "        vertical-align: middle;\n",
       "    }\n",
       "\n",
       "    .dataframe tbody tr th {\n",
       "        vertical-align: top;\n",
       "    }\n",
       "\n",
       "    .dataframe thead th {\n",
       "        text-align: right;\n",
       "    }\n",
       "</style>\n",
       "<table border=\"1\" class=\"dataframe\">\n",
       "  <thead>\n",
       "    <tr style=\"text-align: right;\">\n",
       "      <th></th>\n",
       "      <th>antecedents</th>\n",
       "      <th>consequents</th>\n",
       "      <th>support</th>\n",
       "      <th>confidence</th>\n",
       "      <th>lift</th>\n",
       "    </tr>\n",
       "  </thead>\n",
       "  <tbody>\n",
       "    <tr>\n",
       "      <th>0</th>\n",
       "      <td>(ROSES REGENCY TEACUP AND SAUCER )</td>\n",
       "      <td>(GREEN REGENCY TEACUP AND SAUCER)</td>\n",
       "      <td>0.0428</td>\n",
       "      <td>0.745645</td>\n",
       "      <td>12.990324</td>\n",
       "    </tr>\n",
       "    <tr>\n",
       "      <th>1</th>\n",
       "      <td>(GREEN REGENCY TEACUP AND SAUCER)</td>\n",
       "      <td>(ROSES REGENCY TEACUP AND SAUCER )</td>\n",
       "      <td>0.0428</td>\n",
       "      <td>0.745645</td>\n",
       "      <td>12.990324</td>\n",
       "    </tr>\n",
       "    <tr>\n",
       "      <th>2</th>\n",
       "      <td>(HEART OF WICKER LARGE)</td>\n",
       "      <td>(HEART OF WICKER SMALL)</td>\n",
       "      <td>0.0426</td>\n",
       "      <td>0.630178</td>\n",
       "      <td>7.080646</td>\n",
       "    </tr>\n",
       "    <tr>\n",
       "      <th>3</th>\n",
       "      <td>(SET OF 6 SPICE TINS PANTRY DESIGN)</td>\n",
       "      <td>(SET OF 3 CAKE TINS PANTRY DESIGN )</td>\n",
       "      <td>0.0474</td>\n",
       "      <td>0.645777</td>\n",
       "      <td>6.150253</td>\n",
       "    </tr>\n",
       "  </tbody>\n",
       "</table>\n",
       "</div>"
      ],
      "text/plain": [
       "                           antecedents                          consequents  \\\n",
       "0   (ROSES REGENCY TEACUP AND SAUCER )    (GREEN REGENCY TEACUP AND SAUCER)   \n",
       "1    (GREEN REGENCY TEACUP AND SAUCER)   (ROSES REGENCY TEACUP AND SAUCER )   \n",
       "2              (HEART OF WICKER LARGE)              (HEART OF WICKER SMALL)   \n",
       "3  (SET OF 6 SPICE TINS PANTRY DESIGN)  (SET OF 3 CAKE TINS PANTRY DESIGN )   \n",
       "\n",
       "   support  confidence       lift  \n",
       "0   0.0428    0.745645  12.990324  \n",
       "1   0.0428    0.745645  12.990324  \n",
       "2   0.0426    0.630178   7.080646  \n",
       "3   0.0474    0.645777   6.150253  "
      ]
     },
     "execution_count": 203,
     "metadata": {},
     "output_type": "execute_result"
    }
   ],
   "source": [
    "# Sort the DataFrame by 'support', 'confidence', and 'lift' in descending order\n",
    "rules_sorted = rules.sort_values(by='lift', ascending=False)\n",
    "\n",
    "# Display the sorted DataFrame\n",
    "rules_sorted[['antecedents', 'consequents', 'support', 'confidence', 'lift']]\n"
   ]
  },
  {
   "cell_type": "markdown",
   "metadata": {},
   "source": [
    "Key Observations:\n",
    "\n",
    "The association rules reveal strong relationships between products. For example, the \"ROSES REGENCY TEACUP AND SAUCER\" and \"GREEN REGENCY TEACUP AND SAUCER\" have a high lift of 12.99, indicating that these items are frequently purchased together. Similarly, the \"HEART OF WICKER LARGE\" and \"HEART OF WICKER SMALL\" are often bought together, with a confidence of 63.02%, suggesting customers prefer different sizes of the same product. Additionally, the rule between the \"SET OF 6 SPICE TINS PANTRY DESIGN\" and \"SET OF 3 CAKE TINS PANTRY DESIGN\" shows a lift of 6.15, implying that these products are commonly bought together. These findings suggest opportunities for cross-selling and bundling related products.\n",
    "\n",
    "\n"
   ]
  },
  {
   "cell_type": "markdown",
   "metadata": {},
   "source": [
    "## Validation of Results from Apriori's Algorithm"
   ]
  },
  {
   "cell_type": "code",
   "execution_count": 225,
   "metadata": {},
   "outputs": [
    {
     "name": "stdout",
     "output_type": "stream",
     "text": [
      "Rule: ROSES REGENCY TEACUP AND SAUCER  -> GREEN REGENCY TEACUP AND SAUCER\n",
      "Chi-Square Test: chi2 = 2652.1574465247077, p-value = 0.0\n",
      "--------------------------------------------------\n",
      "Result: The association is statistically significant.\n",
      "\n",
      "\n",
      "Rule: GREEN REGENCY TEACUP AND SAUCER -> ROSES REGENCY TEACUP AND SAUCER \n",
      "Chi-Square Test: chi2 = 2652.1574465247077, p-value = 0.0\n",
      "--------------------------------------------------\n",
      "Result: The association is statistically significant.\n",
      "\n",
      "\n",
      "Rule: HEART OF WICKER LARGE -> HEART OF WICKER SMALL\n",
      "Chi-Square Test: chi2 = 1302.2909754824593, p-value = 3.5922037057288394e-285\n",
      "--------------------------------------------------\n",
      "Result: The association is statistically significant.\n",
      "\n",
      "\n",
      "Rule: SET OF 6 SPICE TINS PANTRY DESIGN -> SET OF 3 CAKE TINS PANTRY DESIGN \n",
      "Chi-Square Test: chi2 = 1226.3265588724594, p-value = 1.1583900169384364e-268\n",
      "--------------------------------------------------\n",
      "Result: The association is statistically significant.\n",
      "\n",
      "\n"
     ]
    }
   ],
   "source": [
    "import pandas as pd\n",
    "from scipy.stats import chi2_contingency\n",
    "\n",
    "# Loop through all rules in rules_sorted and check each rule's Chi-Square results\n",
    "for index, row in rules_sorted.iterrows():\n",
    "    antecedent = list(row['antecedents'])[0]  # Extract item from antecedent (product name)\n",
    "    consequent = list(row['consequents'])[0]  # Extract item from consequent (product name)\n",
    "\n",
    "    # Create the contingency table from df using the product names (antecedent and consequent)\n",
    "    contingency_table = pd.crosstab(subset[antecedent], subset[consequent])\n",
    "\n",
    "    # Perform the Chi-Square Test of Independence\n",
    "    chi2, p_value, dof, expected = chi2_contingency(contingency_table)\n",
    "\n",
    "    # Output the results for this rule\n",
    "    print(f\"Rule: {antecedent} -> {consequent}\")\n",
    "    print(f\"Chi-Square Test: chi2 = {chi2}, p-value = {p_value}\")\n",
    "    print(\"-\" * 50)\n",
    "\n",
    "    # Interpretation of the p-value\n",
    "    if p_value < 0.05:\n",
    "        print(\"Result: The association is statistically significant.\")\n",
    "    else:\n",
    "        print(\"Result: The association is not statistically significant.\")\n",
    "    print(\"\\n\")\n"
   ]
  },
  {
   "cell_type": "code",
   "execution_count": 229,
   "metadata": {},
   "outputs": [
    {
     "data": {
      "image/png": "[encoded data removed]",
      "text/plain": [
       "<Figure size 600x400 with 1 Axes>"
      ]
     },
     "metadata": {},
     "output_type": "display_data"
    },
    {
     "data": {
      "image/png": "[encoded data removed]",
      "text/plain": [
       "<Figure size 600x400 with 1 Axes>"
      ]
     },
     "metadata": {},
     "output_type": "display_data"
    },
    {
     "data": {
      "image/png": "[encoded data removed]",
      "text/plain": [
       "<Figure size 600x400 with 1 Axes>"
      ]
     },
     "metadata": {},
     "output_type": "display_data"
    },
    {
     "data": {
      "image/png": "[encoded data removed]",
      "text/plain": [
       "<Figure size 600x400 with 1 Axes>"
      ]
     },
     "metadata": {},
     "output_type": "display_data"
    }
   ],
   "source": [
    "import seaborn as sns\n",
    "import matplotlib.pyplot as plt\n",
    "import pandas as pd\n",
    "\n",
    "# Assuming `rules_sorted` has the 'antecedents' and 'consequents' columns\n",
    "for index, row in rules_sorted.iterrows():\n",
    "    antecedent = list(row['antecedents'])[0]  \n",
    "    consequent = list(row['consequents'])[0]     \n",
    "    # Create the contingency table for this rule\n",
    "    contingency_table = pd.crosstab(subset[antecedent], subset[consequent])\n",
    "    \n",
    "    # Plotting the heatmap for this rule\n",
    "    plt.figure(figsize=(6, 4))\n",
    "    sns.heatmap(contingency_table, annot=True, cmap=\"YlGnBu\", cbar=False, fmt=\"d\")\n",
    "    plt.title(f\"Contingency Table Heatmap: {antecedent} -> {consequent}\")\n",
    "    plt.xlabel(consequent)\n",
    "    plt.ylabel(antecedent)\n",
    "    plt.show()\n"
   ]
  },
  {
   "cell_type": "code",
   "execution_count": 241,
   "metadata": {},
   "outputs": [
    {
     "name": "stdout",
     "output_type": "stream",
     "text": [
      "Support for ROSES REGENCY TEACUP AND SAUCER: 287\n",
      "Support for GREEN REGENCY TEACUP AND SAUCER: 287\n"
     ]
    }
   ],
   "source": [
    "# Strip spaces from column names\n",
    "subset.columns = subset.columns.str.strip()\n",
    "\n",
    "# Now try accessing the column again\n",
    "support_antecedent = subset['ROSES REGENCY TEACUP AND SAUCER'].sum()\n",
    "support_consequent = subset['GREEN REGENCY TEACUP AND SAUCER'].sum()\n",
    "\n",
    "print(f\"Support for ROSES REGENCY TEACUP AND SAUCER: {support_antecedent}\")\n",
    "print(f\"Support for GREEN REGENCY TEACUP AND SAUCER: {support_consequent}\")\n",
    "\n"
   ]
  },
  {
   "cell_type": "markdown",
   "metadata": {},
   "source": [
    "Products Co-Occurrence Ratio: \"ROSES REGENCY TEACUP AND SAUCER\" and \"GREEN REGENCY TEACUP AND SAUCER\"\n",
    "The ratio of how often these two products appeared together relative to their total appearances is calculated by dividing the times they appeared together (237) by the total number of appearances (574), yielding a ratio of approximately 0.41 or 41.1%. This means that 41% of the time, these two products appeared together in the same transaction.\n"
   ]
  },
  {
   "cell_type": "markdown",
   "metadata": {
    "id": "uTctTSJ6a8hK"
   },
   "source": [
    "3. Show a statistical summary for each of the above product categories. "
   ]
  },
  {
   "cell_type": "code",
   "execution_count": 29,
   "metadata": {
    "id": "11D_uRrca-Yw"
   },
   "outputs": [
    {
     "data": {
      "text/html": [
       "<div>\n",
       "<style scoped>\n",
       "    .dataframe tbody tr th:only-of-type {\n",
       "        vertical-align: middle;\n",
       "    }\n",
       "\n",
       "    .dataframe tbody tr th {\n",
       "        vertical-align: top;\n",
       "    }\n",
       "\n",
       "    .dataframe thead th {\n",
       "        text-align: right;\n",
       "    }\n",
       "</style>\n",
       "<table border=\"1\" class=\"dataframe\">\n",
       "  <thead>\n",
       "    <tr style=\"text-align: right;\">\n",
       "      <th></th>\n",
       "      <th>Fresh</th>\n",
       "      <th>Milk</th>\n",
       "      <th>Grocery</th>\n",
       "      <th>Frozen</th>\n",
       "      <th>Detergents_Paper</th>\n",
       "      <th>Delicatessen</th>\n",
       "    </tr>\n",
       "  </thead>\n",
       "  <tbody>\n",
       "    <tr>\n",
       "      <th>count</th>\n",
       "      <td>440.000000</td>\n",
       "      <td>440.000000</td>\n",
       "      <td>440.000000</td>\n",
       "      <td>440.000000</td>\n",
       "      <td>440.000000</td>\n",
       "      <td>440.000000</td>\n",
       "    </tr>\n",
       "    <tr>\n",
       "      <th>mean</th>\n",
       "      <td>12000.297727</td>\n",
       "      <td>5796.265909</td>\n",
       "      <td>7951.277273</td>\n",
       "      <td>3071.931818</td>\n",
       "      <td>2881.493182</td>\n",
       "      <td>1524.870455</td>\n",
       "    </tr>\n",
       "    <tr>\n",
       "      <th>std</th>\n",
       "      <td>12647.328865</td>\n",
       "      <td>7380.377175</td>\n",
       "      <td>9503.162829</td>\n",
       "      <td>4854.673333</td>\n",
       "      <td>4767.854448</td>\n",
       "      <td>2820.105937</td>\n",
       "    </tr>\n",
       "    <tr>\n",
       "      <th>min</th>\n",
       "      <td>3.000000</td>\n",
       "      <td>55.000000</td>\n",
       "      <td>3.000000</td>\n",
       "      <td>25.000000</td>\n",
       "      <td>3.000000</td>\n",
       "      <td>3.000000</td>\n",
       "    </tr>\n",
       "    <tr>\n",
       "      <th>25%</th>\n",
       "      <td>3127.750000</td>\n",
       "      <td>1533.000000</td>\n",
       "      <td>2153.000000</td>\n",
       "      <td>742.250000</td>\n",
       "      <td>256.750000</td>\n",
       "      <td>408.250000</td>\n",
       "    </tr>\n",
       "    <tr>\n",
       "      <th>50%</th>\n",
       "      <td>8504.000000</td>\n",
       "      <td>3627.000000</td>\n",
       "      <td>4755.500000</td>\n",
       "      <td>1526.000000</td>\n",
       "      <td>816.500000</td>\n",
       "      <td>965.500000</td>\n",
       "    </tr>\n",
       "    <tr>\n",
       "      <th>75%</th>\n",
       "      <td>16933.750000</td>\n",
       "      <td>7190.250000</td>\n",
       "      <td>10655.750000</td>\n",
       "      <td>3554.250000</td>\n",
       "      <td>3922.000000</td>\n",
       "      <td>1820.250000</td>\n",
       "    </tr>\n",
       "    <tr>\n",
       "      <th>max</th>\n",
       "      <td>112151.000000</td>\n",
       "      <td>73498.000000</td>\n",
       "      <td>92780.000000</td>\n",
       "      <td>60869.000000</td>\n",
       "      <td>40827.000000</td>\n",
       "      <td>47943.000000</td>\n",
       "    </tr>\n",
       "  </tbody>\n",
       "</table>\n",
       "</div>"
      ],
      "text/plain": [
       "               Fresh          Milk       Grocery        Frozen  \\\n",
       "count     440.000000    440.000000    440.000000    440.000000   \n",
       "mean    12000.297727   5796.265909   7951.277273   3071.931818   \n",
       "std     12647.328865   7380.377175   9503.162829   4854.673333   \n",
       "min         3.000000     55.000000      3.000000     25.000000   \n",
       "25%      3127.750000   1533.000000   2153.000000    742.250000   \n",
       "50%      8504.000000   3627.000000   4755.500000   1526.000000   \n",
       "75%     16933.750000   7190.250000  10655.750000   3554.250000   \n",
       "max    112151.000000  73498.000000  92780.000000  60869.000000   \n",
       "\n",
       "       Detergents_Paper  Delicatessen  \n",
       "count        440.000000    440.000000  \n",
       "mean        2881.493182   1524.870455  \n",
       "std         4767.854448   2820.105937  \n",
       "min            3.000000      3.000000  \n",
       "25%          256.750000    408.250000  \n",
       "50%          816.500000    965.500000  \n",
       "75%         3922.000000   1820.250000  \n",
       "max        40827.000000  47943.000000  "
      ]
     },
     "execution_count": 29,
     "metadata": {},
     "output_type": "execute_result"
    }
   ],
   "source": [
    "# write your code here\n",
    "wsdf.describe()\n"
   ]
  },
  {
   "cell_type": "markdown",
   "metadata": {
    "id": "KIqPMCGbetH_"
   },
   "source": [
    "4. Show a visual representation of the distribution of each feature in the data.using histogram and normal probability plot. (2 points)"
   ]
  },
  {
   "cell_type": "code",
   "execution_count": 30,
   "metadata": {
    "id": "Cp5YvpMeeVWs"
   },
   "outputs": [
    {
     "data": {
      "image/png": "[encoded data removed]",
      "text/plain": [
       "<Figure size 1200x800 with 6 Axes>"
      ]
     },
     "metadata": {},
     "output_type": "display_data"
    },
    {
     "data": {
      "image/png": "[encoded data removed]",
      "text/plain": [
       "<Figure size 1200x800 with 6 Axes>"
      ]
     },
     "metadata": {},
     "output_type": "display_data"
    }
   ],
   "source": [
    "# write your code here\n",
    "# Loop through columns and create plots\n",
    "# 1.Plotting Histogram of each feature\n",
    "plt.figure(figsize=(12,8))\n",
    "for i,col in enumerate(wsdf.columns):\n",
    "    plt.subplot(2, 3, i+1)\n",
    "    plt.hist(wsdf[col],bins=30,color='skyblue',edgecolor='black')\n",
    "    plt.title(col+' Histogram')\n",
    "    plt.xlabel('Value')\n",
    "    plt.ylabel('Frequency')\n",
    "# 2. Plotting normal probability plot of each feature\n",
    "plt.figure(figsize=(12,8))\n",
    "for i, col in enumerate(wsdf.columns):\n",
    "    plt.subplot(2,3,i+1)\n",
    "    stats.probplot(wsdf[col], dist=\"norm\", plot=plt)\n",
    "    plt.title(col + \" Normal Probability Plot\")\n",
    "plt.tight_layout()\n",
    "plt.show()\n"
   ]
  },
  {
   "cell_type": "markdown",
   "metadata": {
    "id": "-VuXd_rFgPrO"
   },
   "source": [
    "5. What do you observe about distribution? (2 points)\n"
   ]
  }
 ],
 "metadata": {
  "celltoolbar": "Slideshow",
  "colab": {
   "provenance": []
  },
  "hide_input": false,
  "kernelspec": {
   "display_name": "Python 3 (ipykernel)",
   "language": "python",
   "name": "python3"
  },
  "language_info": {
   "codemirror_mode": {
    "name": "ipython",
    "version": 3
   },
   "file_extension": ".py",
   "mimetype": "text/x-python",
   "name": "python",
   "nbconvert_exporter": "python",
   "pygments_lexer": "ipython3",
   "version": "3.12.4"
  }
 },
 "nbformat": 4,
 "nbformat_minor": 4
}
